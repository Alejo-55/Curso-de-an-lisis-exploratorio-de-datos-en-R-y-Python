{
 "cells": [
  {
   "cell_type": "markdown",
   "metadata": {},
   "source": [
    "# Curso Análisis Exploratorio de datos: explorando bases de datos"
   ]
  },
  {
   "cell_type": "markdown",
   "metadata": {},
   "source": [
    "## Transformación de las bases de datos.\n",
    "\n",
    "Si bien en la mayoría de casos las bases de datos son descargadas de fuentes oficiales (ejemplo, Banco Mundial) o recolectados a través formatos diseñados por nosotros mismos, en muchas de las ocasiones se hace necesario realizar transformaciones a nustros datos que permitan entenderlos, interpretarlos o manejarlos de una mejor manera. "
   ]
  },
  {
   "cell_type": "code",
   "execution_count": 4,
   "metadata": {},
   "outputs": [],
   "source": [
    "### Abriendo las librerías\n",
    "import pandas as pd\n",
    "import numpy as np"
   ]
  },
  {
   "cell_type": "markdown",
   "metadata": {},
   "source": [
    "Abrimos nuevamente la base de datos (solo en caso de que no la tengas abierta):"
   ]
  },
  {
   "cell_type": "code",
   "execution_count": null,
   "metadata": {},
   "outputs": [],
   "source": [
    "from gapminder import gapminder"
   ]
  },
  {
   "cell_type": "markdown",
   "metadata": {},
   "source": [
    "### Abriendo la base de datos\n",
    "Recuerden que siempre queremos confirmar que la base de datos se haya abierto de manera correcta. Para eso hemos venido utilizando la función \"head\"; sin embargo, muy parecido a esta, la función \"tails\" muestra por defecto los últimos cinco datos de la base de datos en uso:"
   ]
  },
  {
   "cell_type": "code",
   "execution_count": null,
   "metadata": {},
   "outputs": [],
   "source": [
    "gapminder.tail()"
   ]
  },
  {
   "cell_type": "markdown",
   "metadata": {},
   "source": [
    "### Escogiendo columnas o filas específicas\n",
    "En programación existen dos operaciones llamadas \"slicing\" y \"subseting\" que permiten extraer un subconjunto de elementos de una matriz (base de datos) y los empaqueta como otra matriz, usualmente en una dimensión diferente a la original:"
   ]
  },
  {
   "cell_type": "code",
   "execution_count": null,
   "metadata": {},
   "outputs": [],
   "source": [
    "# Por ejemplo, si quisiera tomar solo la variable país \"country\" y crear una base con esta sola variable:\n",
    "países = gapminder[\"country\"]\n",
    "países"
   ]
  },
  {
   "cell_type": "code",
   "execution_count": null,
   "metadata": {},
   "outputs": [],
   "source": [
    "# La puedo convertir en un DataFrame:\n",
    "países.to_frame()"
   ]
  },
  {
   "cell_type": "code",
   "execution_count": null,
   "metadata": {},
   "outputs": [],
   "source": [
    "# También puedo escoger únicamente un conjunto de filas, para esto es importante recordar que Python está indexado\n",
    "# (0-indexed) desde cero, así que para tomar el primer dato, es necesario poner el valor cero:\n",
    "filas_nuevas = gapminder[0:88]\n",
    "filas_nuevas"
   ]
  },
  {
   "cell_type": "code",
   "execution_count": null,
   "metadata": {},
   "outputs": [],
   "source": [
    "# O incluso tomar filas de una sola variable:\n",
    "filas_variable = gapminder[\"pop\"][0:88]\n",
    "filas_variable.to_frame()"
   ]
  },
  {
   "cell_type": "markdown",
   "metadata": {},
   "source": [
    "### Ordenar datos\n",
    "Ordenar la base de datos en torno a una variable, puede ser numérica o de tipo texto:"
   ]
  },
  {
   "cell_type": "code",
   "execution_count": 3,
   "metadata": {},
   "outputs": [
    {
     "ename": "NameError",
     "evalue": "name 'gapminder' is not defined",
     "output_type": "error",
     "traceback": [
      "\u001b[1;31m---------------------------------------------------------------------------\u001b[0m",
      "\u001b[1;31mNameError\u001b[0m                                 Traceback (most recent call last)",
      "Cell \u001b[1;32mIn[3], line 2\u001b[0m\n\u001b[0;32m      1\u001b[0m \u001b[38;5;66;03m# Variable numérica\u001b[39;00m\n\u001b[1;32m----> 2\u001b[0m ordenado \u001b[38;5;241m=\u001b[39m gapminder\u001b[38;5;241m.\u001b[39msort_values(\u001b[38;5;124m\"\u001b[39m\u001b[38;5;124mpop\u001b[39m\u001b[38;5;124m\"\u001b[39m)\n\u001b[0;32m      3\u001b[0m ordenado\n",
      "\u001b[1;31mNameError\u001b[0m: name 'gapminder' is not defined"
     ]
    }
   ],
   "source": [
    "# Variable numérica\n",
    "ordenado = gapminder.sort_values(\"pop\")\n",
    "ordenado"
   ]
  },
  {
   "cell_type": "code",
   "execution_count": 2,
   "metadata": {},
   "outputs": [
    {
     "ename": "NameError",
     "evalue": "name 'ordenado' is not defined",
     "output_type": "error",
     "traceback": [
      "\u001b[1;31m---------------------------------------------------------------------------\u001b[0m",
      "\u001b[1;31mNameError\u001b[0m                                 Traceback (most recent call last)",
      "Cell \u001b[1;32mIn[2], line 2\u001b[0m\n\u001b[0;32m      1\u001b[0m \u001b[38;5;66;03m# Variable texto\u001b[39;00m\n\u001b[1;32m----> 2\u001b[0m ordenado2 \u001b[38;5;241m=\u001b[39m ordenado\u001b[38;5;241m.\u001b[39msort_values(\u001b[38;5;124m\"\u001b[39m\u001b[38;5;124mcountry\u001b[39m\u001b[38;5;124m\"\u001b[39m)\n\u001b[0;32m      3\u001b[0m ordenado2\n",
      "\u001b[1;31mNameError\u001b[0m: name 'ordenado' is not defined"
     ]
    }
   ],
   "source": [
    "# Variable texto\n",
    "ordenado2 = ordenado.sort_values(\"country\")\n",
    "ordenado2"
   ]
  },
  {
   "cell_type": "markdown",
   "metadata": {},
   "source": [
    "Vuelve a estar ordenada en orden alfabético por el país, pero al haber ordenado previamente por la población, ya no se encuentra ordenada en tprno al país y el año como la base original."
   ]
  },
  {
   "cell_type": "markdown",
   "metadata": {},
   "source": [
    "### Agrupar datos\n",
    "Es posible agrupar los datos para dejar, por ejemplo, solo una fila de un país; solo una fila de un año; entre otros. Para esto es necesario utilizar funciones como mean (promedio), min (dato mínimo), max (dato máximo), entre otros:"
   ]
  },
  {
   "cell_type": "code",
   "execution_count": 1,
   "metadata": {},
   "outputs": [
    {
     "ename": "NameError",
     "evalue": "name 'gapminder' is not defined",
     "output_type": "error",
     "traceback": [
      "\u001b[1;31m---------------------------------------------------------------------------\u001b[0m",
      "\u001b[1;31mNameError\u001b[0m                                 Traceback (most recent call last)",
      "Cell \u001b[1;32mIn[1], line 1\u001b[0m\n\u001b[1;32m----> 1\u001b[0m agrupado_media \u001b[38;5;241m=\u001b[39m gapminder\u001b[38;5;241m.\u001b[39mgroupby(by \u001b[38;5;241m=\u001b[39m \u001b[38;5;124m\"\u001b[39m\u001b[38;5;124mcountry\u001b[39m\u001b[38;5;124m\"\u001b[39m)\u001b[38;5;241m.\u001b[39mmean()\n\u001b[0;32m      2\u001b[0m agrupado_media\n",
      "\u001b[1;31mNameError\u001b[0m: name 'gapminder' is not defined"
     ]
    }
   ],
   "source": [
    "agrupado_media = gapminder.groupby(by = \"country\").mean()\n",
    "agrupado_media"
   ]
  },
  {
   "cell_type": "markdown",
   "metadata": {},
   "source": [
    "Vemos que se creó una base con las 142 filas de cada uno de los países de los cuales se tenía información. Para las variables con datos de tipo numérico, se creó el promedio, ejemplo, todos los países tendrían información para un hipotético año \"1979.5\", y en los otros datos, cada país tiene información diferente correspondiente al promedio de esa variable."
   ]
  },
  {
   "cell_type": "code",
   "execution_count": 5,
   "metadata": {},
   "outputs": [
    {
     "ename": "NameError",
     "evalue": "name 'gapminder' is not defined",
     "output_type": "error",
     "traceback": [
      "\u001b[1;31m---------------------------------------------------------------------------\u001b[0m",
      "\u001b[1;31mNameError\u001b[0m                                 Traceback (most recent call last)",
      "Cell \u001b[1;32mIn[5], line 1\u001b[0m\n\u001b[1;32m----> 1\u001b[0m agrupado_min \u001b[38;5;241m=\u001b[39m gapminder\u001b[38;5;241m.\u001b[39mgroupby(by \u001b[38;5;241m=\u001b[39m \u001b[38;5;124m\"\u001b[39m\u001b[38;5;124mcountry\u001b[39m\u001b[38;5;124m\"\u001b[39m)\u001b[38;5;241m.\u001b[39mmin()\n\u001b[0;32m      2\u001b[0m agrupado_min\n",
      "\u001b[1;31mNameError\u001b[0m: name 'gapminder' is not defined"
     ]
    }
   ],
   "source": [
    "agrupado_min = gapminder.groupby(by = \"country\").min()\n",
    "agrupado_min"
   ]
  },
  {
   "cell_type": "markdown",
   "metadata": {},
   "source": [
    "En este caso, se ve que todos tienen información del dato mínimo, por ejemplo en el año, donde todos los países tienen información para 1952, primer año del cual se tenía información en la base de datos. En las otros casos también se toma el dato mínimo de cada una de las variables."
   ]
  },
  {
   "cell_type": "code",
   "execution_count": null,
   "metadata": {},
   "outputs": [],
   "source": [
    "agrupado_max = gapminder.groupby(by = \"country\").max()\n",
    "agrupado_max"
   ]
  },
  {
   "cell_type": "markdown",
   "metadata": {},
   "source": [
    "En este caso, se ve que todos tienen información del dato máximo, por ejemplo en el año, donde todos los países tienen información para 2007, último año del cual se tenía información en la base de datos. En las otros casos también se toma el dato máximo de cada una de las variables."
   ]
  }
 ],
 "metadata": {
  "interpreter": {
   "hash": "aee8b7b246df8f9039afb4144a1f6fd8d2ca17a180786b69acc140d282b71a49"
  },
  "kernelspec": {
   "display_name": "Python [conda env:base] *",
   "language": "python",
   "name": "conda-base-py"
  },
  "language_info": {
   "codemirror_mode": {
    "name": "ipython",
    "version": 3
   },
   "file_extension": ".py",
   "mimetype": "text/x-python",
   "name": "python",
   "nbconvert_exporter": "python",
   "pygments_lexer": "ipython3",
   "version": "3.13.5"
  }
 },
 "nbformat": 4,
 "nbformat_minor": 4
}
